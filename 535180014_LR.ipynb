{
  "nbformat": 4,
  "nbformat_minor": 0,
  "metadata": {
    "colab": {
      "name": "535180014_LR.ipynb",
      "provenance": []
    },
    "kernelspec": {
      "name": "python3",
      "display_name": "Python 3"
    },
    "language_info": {
      "name": "python"
    }
  },
  "cells": [
    {
      "cell_type": "code",
      "metadata": {
        "id": "fWMvpBt4V1kz"
      },
      "source": [
        "#TEDDY LIONER 535180014\n",
        "#import all libs needed\n",
        "import numpy as np\n",
        "import matplotlib.pyplot as plt\n",
        "import seaborn as sns\n",
        "from scipy import stats\n",
        "import math as m\n",
        "import pandas as pd\n",
        "\n",
        "from sklearn import linear_model"
      ],
      "execution_count": 1,
      "outputs": []
    },
    {
      "cell_type": "markdown",
      "metadata": {
        "id": "Dkz9DOZ8V7NH"
      },
      "source": [
        "1. Baca Data 'Covid19.csv'"
      ]
    },
    {
      "cell_type": "code",
      "metadata": {
        "colab": {
          "base_uri": "https://localhost:8080/",
          "height": 203
        },
        "id": "9kZ32SPEWQMa",
        "outputId": "b102d007-5a6b-4523-d7c3-bdc351345895"
      },
      "source": [
        "url = 'https://raw.githubusercontent.com/ClasherGeek77/ml-csv/main/Covid19.csv'\n",
        "data = pd.read_csv(url)\n",
        "data.head()"
      ],
      "execution_count": 2,
      "outputs": [
        {
          "output_type": "execute_result",
          "data": {
            "text/html": [
              "<div>\n",
              "<style scoped>\n",
              "    .dataframe tbody tr th:only-of-type {\n",
              "        vertical-align: middle;\n",
              "    }\n",
              "\n",
              "    .dataframe tbody tr th {\n",
              "        vertical-align: top;\n",
              "    }\n",
              "\n",
              "    .dataframe thead th {\n",
              "        text-align: right;\n",
              "    }\n",
              "</style>\n",
              "<table border=\"1\" class=\"dataframe\">\n",
              "  <thead>\n",
              "    <tr style=\"text-align: right;\">\n",
              "      <th></th>\n",
              "      <th>Test</th>\n",
              "      <th>Positive</th>\n",
              "    </tr>\n",
              "  </thead>\n",
              "  <tbody>\n",
              "    <tr>\n",
              "      <th>0</th>\n",
              "      <td>659338</td>\n",
              "      <td>23554</td>\n",
              "    </tr>\n",
              "    <tr>\n",
              "      <th>1</th>\n",
              "      <td>676527</td>\n",
              "      <td>20124</td>\n",
              "    </tr>\n",
              "    <tr>\n",
              "      <th>2</th>\n",
              "      <td>757350</td>\n",
              "      <td>22434</td>\n",
              "    </tr>\n",
              "    <tr>\n",
              "      <th>3</th>\n",
              "      <td>791044</td>\n",
              "      <td>21731</td>\n",
              "    </tr>\n",
              "    <tr>\n",
              "      <th>4</th>\n",
              "      <td>838747</td>\n",
              "      <td>24235</td>\n",
              "    </tr>\n",
              "  </tbody>\n",
              "</table>\n",
              "</div>"
            ],
            "text/plain": [
              "     Test  Positive\n",
              "0  659338     23554\n",
              "1  676527     20124\n",
              "2  757350     22434\n",
              "3  791044     21731\n",
              "4  838747     24235"
            ]
          },
          "metadata": {},
          "execution_count": 2
        }
      ]
    },
    {
      "cell_type": "markdown",
      "metadata": {
        "id": "ofryCysMWnpk"
      },
      "source": [
        "2. Gambar grafik scatter variabel 'Test' pada posisi x-axis dan variabel 'Positive' pada 'y-axis'!"
      ]
    },
    {
      "cell_type": "code",
      "metadata": {
        "colab": {
          "base_uri": "https://localhost:8080/",
          "height": 407
        },
        "id": "-_nXDK8WV65z",
        "outputId": "6145fc98-4253-4b89-c976-8a3b5a1378cf"
      },
      "source": [
        "plt.subplots(figsize=(5,4), dpi=100)\n",
        "ax = sns.scatterplot(x=\"Test\", y=\"Positive\", data=data, marker=\"o\")\n",
        "ax.set_xlabel('Test', fontsize=15)\n",
        "ax.set_ylabel('Positive', fontsize=15, rotation=90)"
      ],
      "execution_count": 3,
      "outputs": [
        {
          "output_type": "execute_result",
          "data": {
            "text/plain": [
              "Text(0, 0.5, 'Positive')"
            ]
          },
          "metadata": {},
          "execution_count": 3
        },
        {
          "output_type": "display_data",
          "data": {
            "image/png": "[encoded data removed]",
            "text/plain": [
              "<Figure size 500x400 with 1 Axes>"
            ]
          },
          "metadata": {
            "needs_background": "light"
          }
        }
      ]
    },
    {
      "cell_type": "markdown",
      "metadata": {
        "id": "FtGNQPIQWxtI"
      },
      "source": [
        "3. Latih model regresi linier untuk menentukan \"garis kecocokan terbaik\" untuk data ini!"
      ]
    },
    {
      "cell_type": "code",
      "metadata": {
        "colab": {
          "base_uri": "https://localhost:8080/"
        },
        "id": "sRHpfmUqWzEs",
        "outputId": "efba061a-5872-41f3-a348-29889a8af941"
      },
      "source": [
        "reg = linear_model.LinearRegression()\n",
        "reg.fit(data[\"Test\"].to_numpy().reshape(-1,1), data[\"Positive\"])"
      ],
      "execution_count": 4,
      "outputs": [
        {
          "output_type": "execute_result",
          "data": {
            "text/plain": [
              "LinearRegression(copy_X=True, fit_intercept=True, n_jobs=None, normalize=False)"
            ]
          },
          "metadata": {},
          "execution_count": 4
        }
      ]
    },
    {
      "cell_type": "markdown",
      "metadata": {
        "id": "Xvcha47tXQOH"
      },
      "source": [
        "4. Tampilkan nilai intercept coefficient (alpha) dan regression coefficien (beta) dari model regresi linear yang sudah dibuat!"
      ]
    },
    {
      "cell_type": "code",
      "metadata": {
        "colab": {
          "base_uri": "https://localhost:8080/"
        },
        "id": "AsIy-RP9XTUU",
        "outputId": "5777dd9c-4710-40e5-ed9f-8a8c6832e243"
      },
      "source": [
        "print(\"Refression coefficient beta = %.3f\" % (reg.coef_))\n",
        "print(\"Intercept coefficient alpha = %.3f\" % (reg.intercept_))"
      ],
      "execution_count": 5,
      "outputs": [
        {
          "output_type": "stream",
          "name": "stdout",
          "text": [
            "Refression coefficient beta = 0.058\n",
            "Intercept coefficient alpha = -20379.228\n"
          ]
        }
      ]
    },
    {
      "cell_type": "markdown",
      "metadata": {
        "id": "7tqQf3mFYk8y"
      },
      "source": [
        "5. Gambarlah plot model regresi linier bersama plot scatter di soal nomor 2!"
      ]
    },
    {
      "cell_type": "code",
      "metadata": {
        "id": "SP-Jvb-7ZAja"
      },
      "source": [
        "#calculate model\n",
        "min = np.min(data[\"Test\"])\n",
        "max = np.max(data[\"Test\"])\n",
        "model = reg.predict(np.arange(min, max).reshape(-1,1))"
      ],
      "execution_count": 6,
      "outputs": []
    },
    {
      "cell_type": "code",
      "metadata": {
        "colab": {
          "base_uri": "https://localhost:8080/",
          "height": 383
        },
        "id": "sBS4-oG_YoCj",
        "outputId": "fbf62b87-feaf-4842-e68d-8993d950d3c4"
      },
      "source": [
        "plt.subplots(figsize=(5,4), dpi=100)\n",
        "\n",
        "ax.set_xlabel('Test', fontsize=15)\n",
        "ax.set_ylabel('Positive', fontsize=15, rotation=90)\n",
        "ax = sns.scatterplot(x=\"Test\", y=\"Positive\", data=data, markers='o')\n",
        "ax = sns.lineplot(y=model.flatten(), x=np.arange(min,max),linestyle='-', color = 'r', label='A', alpha = 0.7, lw = 2)"
      ],
      "execution_count": 7,
      "outputs": [
        {
          "output_type": "display_data",
          "data": {
            "image/png": "[encoded data removed]",
            "text/plain": [
              "<Figure size 500x400 with 1 Axes>"
            ]
          },
          "metadata": {
            "needs_background": "light"
          }
        }
      ]
    },
    {
      "cell_type": "markdown",
      "metadata": {
        "id": "8GYIC8wzZovU"
      },
      "source": [
        "6. Hitunglah goodness of fit R2!"
      ]
    },
    {
      "cell_type": "code",
      "metadata": {
        "colab": {
          "base_uri": "https://localhost:8080/"
        },
        "id": "syKMFrIKZrPM",
        "outputId": "03fd3766-1be9-498e-ee13-52ea4dedce5c"
      },
      "source": [
        "from sklearn.metrics import r2_score\n",
        "dataX = pd.DataFrame(data[\"Test\"])\n",
        "positive = reg.predict(dataX)\n",
        "r2 = r2_score(data[\"Positive\"], positive)\n",
        "print(\"R2 (sklearn):\", r2)\n",
        "\n",
        "ssT = [((data[\"Positive\"][i] - np.mean(data[\"Positive\"])) ** 2) for i in range (0, len(data[\"Test\"]))]\n",
        "ssR = [((data[\"Positive\"][i] - positive[i]) ** 2)               for i in range (0, len(data[\"Test\"]))]\n",
        "ssM = [((positive[i] - np.mean(data[\"Positive\"])) ** 2)         for i in range (0, len(data[\"Test\"]))]\n",
        "\n",
        "print(\"R2 (method A):\", np.sum(ssM)/np.sum(ssT))\n",
        "print(\"R2 (method B):\", 1 - np.sum(ssR)/np.sum(ssT))"
      ],
      "execution_count": 8,
      "outputs": [
        {
          "output_type": "stream",
          "name": "stdout",
          "text": [
            "R2 (sklearn): 0.8108087147597196\n",
            "R2 (method A): 0.8108087147597193\n",
            "R2 (method B): 0.8108087147597196\n"
          ]
        }
      ]
    },
    {
      "cell_type": "markdown",
      "metadata": {
        "id": "OM51EmsVajPj"
      },
      "source": [
        "7. Hitunglah jumlah perkiraan kasus positive jika dilakukan test sebanyak 2000000!"
      ]
    },
    {
      "cell_type": "code",
      "metadata": {
        "colab": {
          "base_uri": "https://localhost:8080/"
        },
        "id": "ys8YxDUtakf1",
        "outputId": "7ae213fb-6495-41f7-cab2-36dce24d27eb"
      },
      "source": [
        "print(\"Perkiraan kasus positif dengan jumlah 2000000 test adalah %d kasus.\" % reg.predict([[2000000]]))"
      ],
      "execution_count": 9,
      "outputs": [
        {
          "output_type": "stream",
          "name": "stdout",
          "text": [
            "Perkiraan kasus positif dengan jumlah 2000000 test adalah 94965 kasus.\n"
          ]
        }
      ]
    },
    {
      "cell_type": "markdown",
      "metadata": {
        "id": "g63uKNmzaXU1"
      },
      "source": [
        "8. Tambahkan data outlier Test = 1500000 dan Positive = 5000 pada dataset Covid19.cvs!"
      ]
    },
    {
      "cell_type": "code",
      "metadata": {
        "colab": {
          "base_uri": "https://localhost:8080/",
          "height": 203
        },
        "id": "74tjcobEabFx",
        "outputId": "18c8b7d1-b496-4cad-9da4-4965250bd07c"
      },
      "source": [
        "dataOut = data.append({'Test':1500000, 'Positive':5000}, ignore_index=True)\n",
        "dataOut.tail()"
      ],
      "execution_count": 10,
      "outputs": [
        {
          "output_type": "execute_result",
          "data": {
            "text/html": [
              "<div>\n",
              "<style scoped>\n",
              "    .dataframe tbody tr th:only-of-type {\n",
              "        vertical-align: middle;\n",
              "    }\n",
              "\n",
              "    .dataframe tbody tr th {\n",
              "        vertical-align: top;\n",
              "    }\n",
              "\n",
              "    .dataframe thead th {\n",
              "        text-align: right;\n",
              "    }\n",
              "</style>\n",
              "<table border=\"1\" class=\"dataframe\">\n",
              "  <thead>\n",
              "    <tr style=\"text-align: right;\">\n",
              "      <th></th>\n",
              "      <th>Test</th>\n",
              "      <th>Positive</th>\n",
              "    </tr>\n",
              "  </thead>\n",
              "  <tbody>\n",
              "    <tr>\n",
              "      <th>12</th>\n",
              "      <td>1038954</td>\n",
              "      <td>34864</td>\n",
              "    </tr>\n",
              "    <tr>\n",
              "      <th>13</th>\n",
              "      <td>1041099</td>\n",
              "      <td>35460</td>\n",
              "    </tr>\n",
              "    <tr>\n",
              "      <th>14</th>\n",
              "      <td>1074493</td>\n",
              "      <td>46838</td>\n",
              "    </tr>\n",
              "    <tr>\n",
              "      <th>15</th>\n",
              "      <td>1210002</td>\n",
              "      <td>53762</td>\n",
              "    </tr>\n",
              "    <tr>\n",
              "      <th>16</th>\n",
              "      <td>1500000</td>\n",
              "      <td>5000</td>\n",
              "    </tr>\n",
              "  </tbody>\n",
              "</table>\n",
              "</div>"
            ],
            "text/plain": [
              "       Test  Positive\n",
              "12  1038954     34864\n",
              "13  1041099     35460\n",
              "14  1074493     46838\n",
              "15  1210002     53762\n",
              "16  1500000      5000"
            ]
          },
          "metadata": {},
          "execution_count": 10
        }
      ]
    },
    {
      "cell_type": "markdown",
      "metadata": {
        "id": "ZE5y5-C8bQ_5"
      },
      "source": [
        "9. Gambarlah grafik scatter variabel 'Test' pada posisi x-axis dan variabel 'Positive' pada 'y-axis'!"
      ]
    },
    {
      "cell_type": "code",
      "metadata": {
        "colab": {
          "base_uri": "https://localhost:8080/",
          "height": 405
        },
        "id": "j1K2BxcHbUNH",
        "outputId": "8448396a-963d-4001-f210-1dd94362696d"
      },
      "source": [
        "plt.subplots(figsize=(5,4), dpi=100)\n",
        "aOut = sns.scatterplot(x=\"Test\", y=\"Positive\", data=dataOut, markers='o')\n",
        "aOut.set_xlabel('Test', fontsize=15)\n",
        "aOut.set_ylabel('Positive', fontsize=15, rotation=90)"
      ],
      "execution_count": 11,
      "outputs": [
        {
          "output_type": "execute_result",
          "data": {
            "text/plain": [
              "Text(0, 0.5, 'Positive')"
            ]
          },
          "metadata": {},
          "execution_count": 11
        },
        {
          "output_type": "display_data",
          "data": {
            "image/png": "[encoded data removed]",
            "text/plain": [
              "<Figure size 500x400 with 1 Axes>"
            ]
          },
          "metadata": {
            "needs_background": "light"
          }
        }
      ]
    },
    {
      "cell_type": "markdown",
      "metadata": {
        "id": "9_Jq-te5bsrj"
      },
      "source": [
        "10. Latih model regresi linier untuk menentukan \"garis kecocokan terbaik\" untuk data setelah ditambahkan outlier!"
      ]
    },
    {
      "cell_type": "code",
      "metadata": {
        "colab": {
          "base_uri": "https://localhost:8080/"
        },
        "id": "suKkxc2gb283",
        "outputId": "2f0e7d4d-7d01-4fd3-e344-0fd2d5430cb2"
      },
      "source": [
        "regOut = linear_model.LinearRegression()\n",
        "regOut.fit(dataOut[\"Test\"].to_numpy().reshape(-1,1), dataOut[\"Positive\"])"
      ],
      "execution_count": 12,
      "outputs": [
        {
          "output_type": "execute_result",
          "data": {
            "text/plain": [
              "LinearRegression(copy_X=True, fit_intercept=True, n_jobs=None, normalize=False)"
            ]
          },
          "metadata": {},
          "execution_count": 12
        }
      ]
    },
    {
      "cell_type": "markdown",
      "metadata": {
        "id": "bi_EYR19cC7C"
      },
      "source": [
        "11. Hitunglah goodness of fit R2 pada data setelah ditambah outlier!"
      ]
    },
    {
      "cell_type": "code",
      "metadata": {
        "colab": {
          "base_uri": "https://localhost:8080/"
        },
        "id": "vWC4wJsacEhk",
        "outputId": "3f76f218-4d25-4928-b616-bd2bd75d089e"
      },
      "source": [
        "dataOutX = pd.DataFrame(dataOut[\"Test\"])\n",
        "positiveOut = regOut.predict(dataOutX)\n",
        "r2Out = r2_score(dataOut[\"Positive\"], positiveOut)\n",
        "print(\"R2 (sklearn):\", r2Out)\n",
        "\n",
        "ssTOut = [((dataOut[\"Positive\"][i] - np.mean(dataOut[\"Positive\"])) ** 2) for i in range (0, len(dataOut[\"Test\"]))]\n",
        "ssROut = [((dataOut[\"Positive\"][i] - positiveOut[i]) ** 2)               for i in range (0, len(dataOut[\"Test\"]))]\n",
        "ssMOut = [((positiveOut[i] - np.mean(dataOut[\"Positive\"])) ** 2)            for i in range (0, len(dataOut[\"Test\"]))]\n",
        "\n",
        "print(\"R2 (method A):\", np.sum(ssMOut)/np.sum(ssTOut))\n",
        "print(\"R2 (method B):\", 1 - np.sum(ssROut)/np.sum(ssTOut))"
      ],
      "execution_count": 13,
      "outputs": [
        {
          "output_type": "stream",
          "name": "stdout",
          "text": [
            "R2 (sklearn): 0.009403446344090294\n",
            "R2 (method A): 0.00940344634409025\n",
            "R2 (method B): 0.009403446344090294\n"
          ]
        }
      ]
    },
    {
      "cell_type": "markdown",
      "metadata": {
        "id": "uPs4mWf3cevj"
      },
      "source": [
        "12. Tampilkan nilai R2 dari data asli (data sebelum ditambah outlier) dan data outlier (data setelah ditambah outlier)!"
      ]
    },
    {
      "cell_type": "code",
      "metadata": {
        "colab": {
          "base_uri": "https://localhost:8080/"
        },
        "id": "qrblXolecmHB",
        "outputId": "db32490c-e047-40a7-a76e-fa51827f61e3"
      },
      "source": [
        "print(\"R2 w/o Outlier:\", r2)\n",
        "print(\"R2 w/ Outlier:\", r2Out)"
      ],
      "execution_count": 14,
      "outputs": [
        {
          "output_type": "stream",
          "name": "stdout",
          "text": [
            "R2 w/o Outlier: 0.8108087147597196\n",
            "R2 w/ Outlier: 0.009403446344090294\n"
          ]
        }
      ]
    },
    {
      "cell_type": "markdown",
      "metadata": {
        "id": "uB_iHzWRc8Q6"
      },
      "source": [
        "13. Apa kesimpulan anda tentang penggunaan model Regressi Linear pada data outlier?"
      ]
    },
    {
      "cell_type": "markdown",
      "metadata": {
        "id": "2AfxUYbSc-US"
      },
      "source": [
        "Penggunaan model regresi linear dengan dataset yang mengandung outlier yang signifikan sangat tidak disarankan karena menghancurkan nilai akurasi dari 81% menjadi 9%.\n",
        "Anjuran bagi penggunaan model regresi ini adalah menghilangkan data outlier sebelum digunakan untuk membentuk model regresi."
      ]
    }
  ]
}